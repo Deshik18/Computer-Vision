{
  "cells": [
    {
      "cell_type": "markdown",
      "metadata": {
        "id": "5vSdvSJD9J0A"
      },
      "source": [
        "# **Task 1**"
      ]
    },
    {
      "cell_type": "code",
      "execution_count": 1,
      "metadata": {},
      "outputs": [],
      "source": [
        "import numpy as np\n",
        "import cv2\n",
        "from matplotlib import pyplot as plt\n",
        "from numpy.linalg import inv\n",
        "import time\n",
        "import sys\n",
        "import zlib"
      ]
    },
    {
      "cell_type": "code",
      "execution_count": 2,
      "metadata": {
        "id": "-hBTlhtFqbjJ"
      },
      "outputs": [],
      "source": [
        "def dct_coeff():\n",
        "    T = np.zeros([8, 8])\n",
        "    for i in range(8):\n",
        "        for j in range(8):\n",
        "            if i == 0:\n",
        "                T[i, j] = 1/np.sqrt(8)\n",
        "            elif i > 0:\n",
        "                T[i, j] = np.sqrt(2/8)*np.cos((2*j+1)*i*np.pi/16)\n",
        "    return T\n"
      ]
    },
    {
      "cell_type": "code",
      "execution_count": 3,
      "metadata": {
        "id": "5vmxfY20qcZe"
      },
      "outputs": [],
      "source": [
        "def quantization_level(n):\n",
        "    Q50 = np.zeros([8, 8])\n",
        "\n",
        "    Q50 = np.array([[16, 11, 10, 16, 24, 40, 52, 61],\n",
        "                    [12, 12, 14, 19, 26, 58, 60, 55],\n",
        "                    [14, 13, 16, 24, 40, 57, 69, 56],\n",
        "                    [14, 17, 22, 29, 51, 87, 80, 62],\n",
        "                    [18, 22, 37, 56, 68, 109, 103, 77],\n",
        "                    [24, 35, 55, 64, 81, 104, 113, 92],\n",
        "                    [49, 64, 78, 87, 103, 121, 120, 101],\n",
        "                    [72, 92, 95, 98, 112, 100, 103, 99]])\n",
        "\n",
        "    Q = np.zeros([8, 8])\n",
        "    for i in range(8):\n",
        "        for j in range(8):\n",
        "            if n > 50:\n",
        "                Q[i, j] = min(np.round((100-n)/50*Q50[i, j]), 255)\n",
        "            else:\n",
        "                Q[i, j] = min(np.round(50/n * Q50[i, j]), 255)\n",
        "    return Q"
      ]
    },
    {
      "cell_type": "code",
      "execution_count": 4,
      "metadata": {
        "id": "Qgozr-YkqfYH"
      },
      "outputs": [],
      "source": [
        "def quantiz_div(a, b):\n",
        "    tmp = np.zeros(a.shape)\n",
        "    for i in range(8):\n",
        "        for j in range(8):\n",
        "            tmp[i, j] = np.round(a[i, j]/b[i, j])\n",
        "    return tmp"
      ]
    },
    {
      "cell_type": "code",
      "execution_count": 5,
      "metadata": {
        "id": "zrezRoulqhI-"
      },
      "outputs": [],
      "source": [
        "def quantiz(D, Q):\n",
        "    tmp = np.zeros(D.shape)\n",
        "    mask = np.zeros([8, 8])\n",
        "    for i in range(D.shape[0]//8):\n",
        "        for j in range(D.shape[1]//8):\n",
        "            mask = quantiz_div(D[8*i:8*i+8, 8*j:8*j+8], Q)\n",
        "            tmp[8*i:8*i+8, 8*j:8*j+8] = mask\n",
        "    return (tmp)"
      ]
    },
    {
      "cell_type": "code",
      "execution_count": 6,
      "metadata": {
        "id": "NZgd4tl5qibf"
      },
      "outputs": [],
      "source": [
        "def decompress_mul(a, b):\n",
        "    tmp = np.zeros(a.shape)\n",
        "    for i in range(8):\n",
        "        for j in range(8):\n",
        "            tmp[i, j] = a[i, j]*b[i, j]\n",
        "    return tmp"
      ]
    },
    {
      "cell_type": "code",
      "execution_count": 7,
      "metadata": {
        "id": "ujJFe_AMqj6h"
      },
      "outputs": [],
      "source": [
        "def decompress(C, Q, T, T_prime):\n",
        "    R = np.zeros(C.shape)\n",
        "    mask = np.zeros([8, 8])\n",
        "    for i in range(C.shape[0]//8):\n",
        "        for j in range(C.shape[1]//8):\n",
        "            mask = decompress_mul(C[8*i:8*i+8, 8*j:8*j+8], Q)\n",
        "            R[8*i:8*i+8, 8*j:8*j+8] = mask\n",
        "\n",
        "    N = np.zeros(C.shape)\n",
        "\n",
        "    for i in range(R.shape[0]//8):\n",
        "        for j in range(R.shape[1]//8):\n",
        "            mask = T_prime @ R[8*i:8*i+8, 8*j:8*j+8] @ T\n",
        "            N[8*i:8*i+8, 8*j:8*j+8] = np.round(mask) + 128*np.ones([8, 8])\n",
        "\n",
        "    return N"
      ]
    },
    {
      "cell_type": "code",
      "execution_count": 8,
      "metadata": {
        "id": "EMpnvCOmqpR2"
      },
      "outputs": [],
      "source": [
        "def Compress_img(file, level):\n",
        "\n",
        "    I = cv2.imread(file)\n",
        "    I = cv2.cvtColor(I,cv2.COLOR_BGR2YCrCb)\n",
        "    B, G, R = cv2.split(I)\n",
        "\n",
        "    H = I.shape[0]\n",
        "    W = I.shape[1]\n",
        "\n",
        "    print(\"Image size: \", I.shape)\n",
        "\n",
        "    B = B - 128*np.ones([H, W])\n",
        "    G = G - 128*np.ones([H, W])\n",
        "    R = R - 128*np.ones([H, W])\n",
        "\n",
        "    T = dct_coeff()\n",
        "    T_prime = inv(T)\n",
        "    Q = quantization_level(level)\n",
        "\n",
        "    D_R = dct(R, T, T_prime)\n",
        "    D_G = dct(G, T, T_prime)\n",
        "    D_B = dct(B, T, T_prime)\n",
        "\n",
        "    tmp = cv2.merge((D_B, D_G, D_R))\n",
        "\n",
        "    cv2.imwrite('DCT.jpg', tmp)\n",
        "\n",
        "    C_R = quantiz(D_R, Q)\n",
        "    C_R[C_R == 0] = 0\n",
        "    C_G = quantiz(D_G, Q)\n",
        "    C_G[C_G == 0] = 0\n",
        "    C_B = quantiz(D_B, Q)\n",
        "    C_B[C_B == 0] = 0\n",
        "\n",
        "    tmp = cv2.merge((C_B, C_G, C_R))\n",
        "    C_B_str=zlib.compress(C_B.astype(np.int8).tobytes())\n",
        "    C_G_str=zlib.compress(C_G.astype(np.int8).tobytes())\n",
        "    C_R_str=zlib.compress(C_R.astype(np.int8).tobytes())\n",
        "    return C_B_str, C_G_str, C_R_str, Q, T, T_prime,I.shape\n"
      ]
    },
    {
      "cell_type": "code",
      "execution_count": 9,
      "metadata": {
        "id": "4b1FoFOTqrMt"
      },
      "outputs": [],
      "source": [
        "def Decompress_img(C_B, C_G, C_R, Q, T, T_prime,shape):\n",
        "    C_B=np.frombuffer(zlib.decompress(C_B),dtype=np.int8).astype(float).reshape(shape[0],shape[1])\n",
        "    C_G=np.frombuffer(zlib.decompress(C_G),dtype=np.int8).astype(float).reshape(shape[0],shape[1])\n",
        "    C_R=np.frombuffer(zlib.decompress(C_R),dtype=np.int8).astype(float).reshape(shape[0],shape[1])\n",
        "    N_R = decompress(C_R, Q, T, T_prime)\n",
        "    N_G = decompress(C_G, Q, T, T_prime)\n",
        "    N_B = decompress(C_B, Q, T, T_prime)\n",
        "\n",
        "    N_I = cv2.merge((N_B, N_G, N_R))\n",
        "    N_I = cv2.cvtColor(cv2.convertScaleAbs(N_I),cv2.COLOR_YCR_CB2BGR)\n",
        "    cv2.imwrite('Decompressed_task2.jpg', N_I)"
      ]
    },
    {
      "cell_type": "code",
      "execution_count": 10,
      "metadata": {
        "id": "Ozd6BjXRpq-8"
      },
      "outputs": [],
      "source": [
        "\n",
        "def dct(M,T,T_prime):\n",
        "    dct_res = np.zeros(M.shape)\n",
        "    mask = np.zeros([8,8])\n",
        "    for i in range(M.shape[0]//8):\n",
        "        for j in range(M.shape[1]//8):\n",
        "            mask = M[8*i:8*i+8,8*j:8*j+8]\n",
        "            dct_res[8*i:8*i+8,8*j:8*j+8] = T @ mask @ T_prime\n",
        "\n",
        "    return (dct_res)"
      ]
    },
    {
      "cell_type": "code",
      "execution_count": 11,
      "metadata": {},
      "outputs": [
        {
          "name": "stdout",
          "output_type": "stream",
          "text": [
            "Image size:  (256, 256, 3)\n"
          ]
        },
        {
          "data": {
            "text/plain": [
              "True"
            ]
          },
          "execution_count": 11,
          "metadata": {},
          "output_type": "execute_result"
        }
      ],
      "source": [
        "\n",
        "file = \"images/urban0.png\"\n",
        "level = 50\n",
        "\n",
        "I = cv2.imread(file)\n",
        "\n",
        "# change image to ycrcb\n",
        "I = cv2.cvtColor(I, cv2.COLOR_BGR2YCrCb)\n",
        "\n",
        "B, G, R = cv2.split(I)\n",
        "\n",
        "H = I.shape[0]\n",
        "W = I.shape[1]\n",
        "shape = I.shape\n",
        "\n",
        "print(\"Image size: \", I.shape)\n",
        "\n",
        "B = B - 128*np.ones([H, W])\n",
        "G = G - 128*np.ones([H, W])\n",
        "R = R - 128*np.ones([H, W])\n",
        "\n",
        "T = dct_coeff()\n",
        "T_prime = inv(T)\n",
        "Q = quantization_level(level)\n",
        "\n",
        "D_R = dct(R, T, T_prime)\n",
        "D_G = dct(G, T, T_prime)\n",
        "D_B = dct(B, T, T_prime)\n",
        "\n",
        "tmp = cv2.merge((D_B, D_G, D_R))\n",
        "\n",
        "C_R = quantiz(D_R, Q)\n",
        "C_R[C_R == 0] = 0\n",
        "C_G = quantiz(D_G, Q)\n",
        "C_G[C_G == 0] = 0\n",
        "C_B = quantiz(D_B, Q)\n",
        "C_B[C_B == 0] = 0\n",
        "\n",
        "tmp = cv2.merge((C_B, C_G, C_R))\n",
        "\n",
        "C_B_str = zlib.compress(C_B.astype(np.int8).tobytes())\n",
        "C_G_str = zlib.compress(C_G.astype(np.int8).tobytes())\n",
        "C_R_str = zlib.compress(C_R.astype(np.int8).tobytes())\n",
        "\n",
        "\n",
        "# compression_percentage = 100*(sys.getsizeof(cv2.imread(file)) - (sys.getsizeof(C_B) + sys.getsizeof(C_G) + sys.getsizeof(C_R) + sys.getsizeof(level) + sys.getsizeof(shape))) / sys.getsizeof(cv2.imread(file))\n",
        "# print(f\"Original image size: {sys.getsizeof(cv2.imread(file))} bytes\")\n",
        "# print(f\"Compressed image size: {sys.getsizeof(C_B) + sys.getsizeof(C_G) + sys.getsizeof(C_R) + sys.getsizeof(level) + sys.getsizeof(shape)} ({compression_percentage:0.2f}% smaller)\")\n",
        "\n",
        "\n",
        "C_B = np.frombuffer(zlib.decompress(C_B_str), dtype=np.int8).astype(float).reshape(I.shape[0], I.shape[1])\n",
        "C_G = np.frombuffer(zlib.decompress(C_G_str), dtype=np.int8).astype(float).reshape(I.shape[0], I.shape[1])\n",
        "C_R = np.frombuffer(zlib.decompress(C_R_str), dtype=np.int8).astype(float).reshape(I.shape[0], I.shape[1])\n",
        "\n",
        "T = dct_coeff()\n",
        "T_prime = inv(T)\n",
        "Q = quantization_level(level)\n",
        "N_R = decompress(C_R, Q, T, T_prime)\n",
        "N_G = decompress(C_G, Q, T, T_prime)\n",
        "N_B = decompress(C_B, Q, T, T_prime)\n",
        "\n",
        "N_I = cv2.merge((N_B, N_G, N_R))\n",
        "\n",
        "# change image to rgb\n",
        "N_I = cv2.cvtColor(cv2.convertScaleAbs(N_I), cv2.COLOR_YCrCb2BGR)\n",
        "cv2.imwrite('Decompressed_Task1.jpg', N_I)\n"
      ]
    },
    {
      "cell_type": "code",
      "execution_count": 18,
      "metadata": {
        "colab": {
          "base_uri": "https://localhost:8080/"
        },
        "id": "OLo7vwIapuKa",
        "outputId": "aa801186-db01-4d01-a94b-511064e8f29e"
      },
      "outputs": [
        {
          "name": "stdout",
          "output_type": "stream",
          "text": [
            "Filename:  images/urban0.png\n",
            "Level of compression:  15\n",
            "Compressing....\n",
            "Image size:  (256, 256, 3)\n",
            "Compression Time:  0.6  sec\n",
            "Decompressing...\n",
            "Decompression Time:  0.1  sec\n",
            "Total:  0.7  sec\n"
          ]
        }
      ],
      "source": [
        "file = 'images/urban0.png'\n",
        "level = 15\n",
        "print(\"Filename: \", file)\n",
        "print(\"Level of compression: \", level)\n",
        "\n",
        "print(\"Compressing....\")\n",
        "start = time.time()\n",
        "C_B, C_G, C_R, Q, T, T_prime,shape = Compress_img(file, level)\n",
        "time_comp = time.time()\n",
        "print(\"Compression Time: \", np.round(time_comp - start, 1), \" sec\")\n",
        "\n",
        "print(\"Decompressing...\")\n",
        "Decompress_img(C_B, C_G, C_R, Q, T, T_prime,shape)\n",
        "time_decomp = time.time()\n",
        "\n",
        "print(\"Decompression Time: \", np.round(time_decomp - time_comp, 1), \" sec\")\n",
        "\n",
        "end = time.time()\n",
        "print(\"Total: \", np.round(end - start, 1), \" sec\")"
      ]
    },
    {
      "cell_type": "code",
      "execution_count": 20,
      "metadata": {
        "colab": {
          "base_uri": "https://localhost:8080/"
        },
        "id": "vui5VWl80SlI",
        "outputId": "cbcbd3c4-b133-4934-9724-ad2ba96b4a53"
      },
      "outputs": [
        {
          "name": "stdout",
          "output_type": "stream",
          "text": [
            "File size: 50082 bytes\n",
            "Image size: 16732 bytes\n",
            "Compressed %:  66.59\n"
          ]
        }
      ],
      "source": [
        "import os\n",
        "\n",
        "file_size = os.path.getsize('images/urban0.png')\n",
        "image_size = os.path.getsize('Decompressed_task2.jpg')\n",
        "\n",
        "print(\"File size:\", file_size, \"bytes\")\n",
        "print(\"Image size:\", image_size, \"bytes\")\n",
        "print(\"Compressed %: \", np.round(100*(file_size-image_size)/file_size, 2))"
      ]
    }
  ],
  "metadata": {
    "colab": {
      "provenance": []
    },
    "kernelspec": {
      "display_name": "Python 3",
      "name": "python3"
    },
    "language_info": {
      "codemirror_mode": {
        "name": "ipython",
        "version": 3
      },
      "file_extension": ".py",
      "mimetype": "text/x-python",
      "name": "python",
      "nbconvert_exporter": "python",
      "pygments_lexer": "ipython3",
      "version": "3.11.5"
    }
  },
  "nbformat": 4,
  "nbformat_minor": 0
}
