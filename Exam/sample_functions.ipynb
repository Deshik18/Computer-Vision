{
  "cells": [
    {
      "cell_type": "code",
      "execution_count": null,
      "metadata": {
        "colab": {
          "base_uri": "https://localhost:8080/"
        },
        "id": "uumTy2pfu8aB",
        "outputId": "280c1f82-800e-4a60-d1e8-4974f76c40d3"
      },
      "outputs": [
        {
          "name": "stdout",
          "output_type": "stream",
          "text": [
            "Drive already mounted at /content/drive; to attempt to forcibly remount, call drive.mount(\"/content/drive\", force_remount=True).\n"
          ]
        }
      ],
      "source": [
        "from google.colab import drive\n",
        "drive.mount('/content/drive')"
      ]
    },
    {
      "cell_type": "code",
      "execution_count": 1,
      "metadata": {
        "id": "L16I9KkTM8Uk"
      },
      "outputs": [],
      "source": [
        "import cv2\n",
        "import numpy as np\n",
        "import os"
      ]
    },
    {
      "cell_type": "code",
      "execution_count": 6,
      "metadata": {},
      "outputs": [],
      "source": [
        "import copy\n",
        "from skimage.feature import hog"
      ]
    },
    {
      "cell_type": "code",
      "execution_count": 4,
      "metadata": {
        "id": "Ej42o9KuMuhb"
      },
      "outputs": [],
      "source": [
        "def sliding_window(image, step_size, window_size):\n",
        "    # Slide a window across the image\n",
        "    for y in range(0, image.shape[0] - window_size[1], step_size):\n",
        "        for x in range(0, image.shape[1] - window_size[0], step_size):\n",
        "            yield (x, y, image[y:y + window_size[1], x:x + window_size[0]])\n"
      ]
    },
    {
      "cell_type": "code",
      "execution_count": null,
      "metadata": {
        "id": "KcRP8oDyMz8I"
      },
      "outputs": [],
      "source": [
        "def non_max_suppression(boxes, overlap_thresh):\n",
        "    # If there are no boxes, return an empty list\n",
        "    if(len(boxes)==0):\n",
        "      return []\n",
        "\n",
        "    # Initialize the list of picked indices\n",
        "    picked_index = []\n",
        "\n",
        "    # Grab the coordinates of the bounding boxes\n",
        "    \n",
        "    # Compute the area of the bounding boxes and sort the bounding boxes by bottom-right y-coordinate\n",
        "      \n",
        "\n",
        "    # Keep looping while some indexes still remain in the indexes list\n",
        "\n",
        "        # Grab the last index in the indexes list and add the index value to the list of picked indexes\n",
        "\n",
        "        # Find the largest (x, y) coordinates for the start of the bounding box and the smallest (x, y) coordinates for the end of the bounding box\n",
        "\n",
        "        # Compute the width and height of the bounding box\n",
        "\n",
        "        # Compute the ratio of overlap\n",
        "\n",
        "        # Delete all indexes from the index list that have overlap greater than the provided overlap threshold\n",
        "\n",
        "    # Return only the bounding boxes that were picked\n"
      ]
    },
    {
      "cell_type": "code",
      "execution_count": 19,
      "metadata": {
        "colab": {
          "base_uri": "https://localhost:8080/"
        },
        "id": "tGmoN_ptM38f",
        "outputId": "53c19fb6-1641-4ab7-c603-7d4b7d14f827"
      },
      "outputs": [],
      "source": [
        "def detect_faces(image_path, step_size=20, window_size=(100, 100), overlap_thresh=0.3):\n",
        "    \"\"\"\n",
        "    Detects faces in the given image using sliding window and non-maximum suppression techniques.\n",
        "\n",
        "    Parameters:\n",
        "    image_path (str): Path to the image file.\n",
        "    step_size (int): Step size for sliding window (default is 20).\n",
        "    window_size (tuple): Size of the sliding window (default is (100, 100)).\n",
        "    overlap_thresh (float): Overlap threshold for non-maximum suppression (default is 0.3).\n",
        "\n",
        "    Returns:\n",
        "    face_encodings (list): Encoding of the detected face.\n",
        "    \"\"\"\n",
        "    # Load the image\n",
        "    img = cv2.imread(image_path)\n",
        "    img = cv2.cvtColor(img, cv2.COLOR_BGR2GRAY)\n",
        "    # Initialize list to store detected faces\n",
        "    det_faces = []\n",
        "\n",
        "    # Loop over the sliding window\n",
        "    for (x, y, window) in sliding_window(img, step_size, window_size):\n",
        "        if window.shape[0] != window_size[1] or window.shape[1] != window_size[0]:\n",
        "            continue\n",
        "        # Clone the original image and get the HOG face detector\n",
        "        img2 = img.copy()\n",
        "        features = hog(window, pixels_per_cell=(10, 10))\n",
        "        # Detect faces in the window\n",
        "        \n",
        "\n",
        "        # Add the bounding boxes of detected faces to the list\n",
        "\n",
        "\n",
        "    # Apply non-maximum suppression to remove overlapping bounding boxes\n",
        "\n",
        "\n",
        "    # If no faces are detected, return None\n",
        "\n",
        "\n",
        "    # Select the best bounding box (currently the first one)\n",
        "\n",
        "\n",
        "    # Extract the face region and return its encoding\n",
        "\n",
        "\n",
        "# display the detected faces\n"
      ]
    },
    {
      "cell_type": "code",
      "execution_count": 20,
      "metadata": {},
      "outputs": [
        {
          "name": "stdout",
          "output_type": "stream",
          "text": [
            "0.11865802784874446\n"
          ]
        }
      ],
      "source": [
        "detect_faces('school/database_images/0001_c1_2.png', step_size=20, window_size=(100, 100), overlap_thresh=0.3)"
      ]
    },
    {
      "cell_type": "code",
      "execution_count": null,
      "metadata": {
        "id": "l1yMP6XuM_1O"
      },
      "outputs": [],
      "source": [
        "def create_database(directory):\n",
        "    \"\"\"\n",
        "    Creates and stores encodings of detected faces from images in the specified directory.\n",
        "\n",
        "    Parameters:\n",
        "    directory (str): Path to the directory containing images.\n",
        "    \"\"\"\n",
        "    files = os.listdir(directory)\n",
        "    for filename in files:\n",
        "      image_path = os.path.join(directory, filename)\n",
        "      \n"
      ]
    },
    {
      "cell_type": "code",
      "execution_count": null,
      "metadata": {
        "id": "6W2GduK4NOda"
      },
      "outputs": [],
      "source": [
        "def search_face(face_encodings, query_encoding):\n",
        "    \"\"\"\n",
        "    Compares the query face encoding with pre-loaded encodings to identify similar faces.\n",
        "\n",
        "    Parameters:\n",
        "    face_encodings (list): List of pre-loaded face encodings.\n",
        "    query_encoding (list): Encoding of the query face.\n",
        "\n",
        "    Returns:\n",
        "    sorted_results (list): Sorted list of matched faces.\n",
        "    \"\"\"\n",
        "\n",
        "    # Calculate the Euclidean distance between query_encoding and each face_encoding\n",
        "\n",
        "    # Sort the distances and get the indices\n",
        "\n",
        "    # Create a sorted list of matched faces based on sorted_indices\n",
        "\n",
        "\n",
        "# Load face encodings from images in a directory\n",
        "\n",
        "\n",
        "# Load query image and extract its encoding\n",
        "\n",
        "\n",
        "# Search for similar faces in the loaded encodings\n",
        "\n",
        "\n",
        "# Display results\n"
      ]
    },
    {
      "cell_type": "code",
      "execution_count": null,
      "metadata": {
        "id": "F-5wnh01CFq7"
      },
      "outputs": [],
      "source": [
        "# write a code to compute rank 1 and rank 10 according to the given question and display the results."
      ]
    }
  ],
  "metadata": {
    "colab": {
      "provenance": []
    },
    "kernelspec": {
      "display_name": "Python 3",
      "name": "python3"
    },
    "language_info": {
      "codemirror_mode": {
        "name": "ipython",
        "version": 3
      },
      "file_extension": ".py",
      "mimetype": "text/x-python",
      "name": "python",
      "nbconvert_exporter": "python",
      "pygments_lexer": "ipython3",
      "version": "3.11.5"
    }
  },
  "nbformat": 4,
  "nbformat_minor": 0
}
